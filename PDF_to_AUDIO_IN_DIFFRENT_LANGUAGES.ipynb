{
  "nbformat": 4,
  "nbformat_minor": 0,
  "metadata": {
    "colab": {
      "name": "PDF to AUDIO IN DIFFRENT LANGUAGES.ipynb",
      "provenance": [],
      "collapsed_sections": [
        "yVi1yJF70umX",
        "2NmY7pMC1Avn",
        "rfRiHlpJ1eBq",
        "orI_M4KH2cUA",
        "3OTjrpAx2lcM"
      ],
      "include_colab_link": true
    },
    "kernelspec": {
      "name": "python3",
      "display_name": "Python 3"
    }
  },
  "cells": [
    {
      "cell_type": "markdown",
      "metadata": {
        "id": "view-in-github",
        "colab_type": "text"
      },
      "source": [
        "<a href=\"https://colab.research.google.com/github/ROHITH-Singh/PDF-AUDIO-hindi-kannada-/blob/main/PDF_to_AUDIO_IN_DIFFRENT_LANGUAGES.ipynb\" target=\"_parent\"><img src=\"https://colab.research.google.com/assets/colab-badge.svg\" alt=\"Open In Colab\"/></a>"
      ]
    },
    {
      "cell_type": "markdown",
      "metadata": {
        "id": "yVi1yJF70umX"
      },
      "source": [
        "## **MOUNTING DRIVE FOR EASY ACCESS**"
      ]
    },
    {
      "cell_type": "code",
      "metadata": {
        "colab": {
          "base_uri": "https://localhost:8080/"
        },
        "id": "1bYjc4cAxrH7",
        "outputId": "dcd7414c-4a54-4a73-da19-a1698ac52899"
      },
      "source": [
        "from google.colab import drive\r\n",
        "drive.mount('/content/drive')"
      ],
      "execution_count": null,
      "outputs": [
        {
          "output_type": "stream",
          "text": [
            "Drive already mounted at /content/drive; to attempt to forcibly remount, call drive.mount(\"/content/drive\", force_remount=True).\n"
          ],
          "name": "stdout"
        }
      ]
    },
    {
      "cell_type": "markdown",
      "metadata": {
        "id": "2NmY7pMC1Avn"
      },
      "source": [
        "# **INSTALLING MODULES/LIBRARY WHICH ARE NEEDED**"
      ]
    },
    {
      "cell_type": "code",
      "metadata": {
        "id": "9_Q6LISryBW8"
      },
      "source": [
        "!pip install gTTs #google text to speech\r\n",
        "!pip install googletrans==3.1.0a0  #google translate kind of functionality\r\n",
        "!pip install slate3k   #text extractor from PDfs"
      ],
      "execution_count": null,
      "outputs": []
    },
    {
      "cell_type": "markdown",
      "metadata": {
        "id": "rfRiHlpJ1eBq"
      },
      "source": [
        "# **USING SLATE3K EXTRACTING TEXTS FROM PDF AND CONVERTING AUDIO (ENGLISH)**"
      ]
    },
    {
      "cell_type": "code",
      "metadata": {
        "colab": {
          "base_uri": "https://localhost:8080/"
        },
        "id": "BuicDjKDyPzl",
        "outputId": "cca685fc-c1bd-4eb6-a7ef-ed9cb143e7e2"
      },
      "source": [
        "import slate3k as slate\r\n",
        "from gtts import gTTS\r\n",
        "\r\n",
        "with open('/content/drive/MyDrive/Colab Notebooks/give-and-take (1).pdf','rb') as f:\r\n",
        "    extracted_text =slate.PDF(f)\r\n",
        "# print(extracted_text)\r\n",
        "newstring =\" \".join(extracted_text).split() #removing unwanted \\n \r\n",
        "# print(newstring)\r\n",
        "newstring1=\" \".join(newstring) #converting list to string\r\n",
        "print(newstring1)\r\n",
        "#SAVING INTO ROOT FOLDER OF CURRENT VM\r\n",
        "file=open('story.txt','a')\r\n",
        "file.writelines(newstring1)\r\n",
        "file.close\r\n",
        "# def listtostring(s):\r\n",
        "#      str1=\" \"\r\n",
        "#      return(str1.join(s))\r\n",
        "#  listtostring(extracted_text)\r\n",
        "tts = gTTS(text =newstring1 ,lang='en')  #selecting audio language speaker for text to speech\r\n",
        "tts.save('/content/drive/MyDrive/Colab Notebooks/story1.mp3')"
      ],
      "execution_count": null,
      "outputs": [
        {
          "output_type": "stream",
          "text": [
            "A few days after the soccer game, Shader drove to Hornik’s office and pitched his newest idea. Nearly a quarter of Americans have trouble making online purchases because they don’t have a bank account or credit card, and Shader was proposing an innovative solution to this problem. Hornik was one of the first venture capitalists to hear the pitch, and right off the bat, he loved it. Within a week, he put Shader in front of his partners and offered him a term sheet: he wanted to fund Shader ’s company. Although Hornik had moved fast, Shader was in a strong position. Given Shader ’s reputation, and the quality of his idea, Hornik knew plenty of investors would be clamoring to work w ith Shader. “You’re rarely the only investor giving an entrepreneur a term sheet,” Hornik explains. “You’re competing w ith the best venture capital firms in the country, and trying to convince the entrepreneur to take your money instead of theirs.” The best way for Hornik to land the investment was to set a deadline for Shader to make his decision. If Hornik made a compelling offer w ith a short fuse, Shader might sign it before he had the chance to pitch to other investors. This is what many venture capitalists do to stack the odds in their favor. But Hornik didn’t give Shader a deadline. In fact, he practically invited Shader to shop his offer around to other investors. Hornik believed that entrepreneurs need time to evaluate their options, so as a matter of principle, he refused to present exploding offers. “Take as much time as you need to make the right decision,” he said. Although Hornik hoped Shader would conclude that the right decision was to sign w ith him, he put Shader ’s best interests ahead of his own, giving Shader space to explore other options. Shader did just that: he spent the next few weeks pitching his idea to other investors. In the meantime, Hornik wanted to make sure he was still a strong contender, so he sent Shader his most valuable resource: a list of forty references who could attest to Hornik’s caliber as an investor. Hornik knew that entrepreneurs look for the same attributes in investors that we all seek in financial advisers: competence and trustworthiness. When entrepreneurs sign w ith an investor, the investor joins their board of directors and provides expert advice. Hornik’s list of references reflected the blood, sweat, and tears that he had devoted to entrepreneurs over the course of more than a decade in the venture business. He knew they would vouch for his skill and his character. A few weeks later, Hornik’s phone rang. It was Shader, ready to announce his decision. “I’m sorry,” Shader said, “but I’m signing w ith another investor.” The financial terms of the offer from Hornik and the other investor were virtually identical, so Hornik’s list of forty references should have given him an advantage. And after speaking w ith the references, it was clear to Shader that Hornik was a great guy. But it was this very same spirit of generosity that doomed Hornik’s case. Shader worried that Hornik would spend more time encouraging him than challenging him. Hornik might not be tough enough to help Shader start a successful business, and the other investor had a reputation for being a brilliant adviser who questioned and pushed entrepreneurs. Shader walked away thinking, “I should probably add somebody to the board who w ill challenge me more. Hornik is so affable that I don’t know what he’ll be like in the boardroom.” When he called Hornik, he explained, “My heart said to go w ith you, but my head said to go w ith them. I decided to go w ith my head instead of my heart.” Hornik was devastated, and he began to second-guess himself. “Am I a dope? If I had applied pressure to take the term sheet, maybe he would have taken it. But I’ve spent a decade building my reputation so this wouldn’t happen. How did this happen?”\n"
          ],
          "name": "stdout"
        }
      ]
    },
    {
      "cell_type": "markdown",
      "metadata": {
        "id": "orI_M4KH2cUA"
      },
      "source": [
        "# **TRANSLATING INTO HINDI AUDIO**"
      ]
    },
    {
      "cell_type": "code",
      "metadata": {
        "id": "W24oOJz2zCj_"
      },
      "source": [
        "from googletrans import Translator\r\n",
        "trans=Translator()\r\n",
        "text=newstring1\r\n",
        "t=trans.translate(text,dest='hi' )  #translating into hindi text\r\n",
        "\r\n",
        "tts1=gTTS(text=t.text,lang='hi',slow=False)\r\n",
        "tts1.save('/content/drive/MyDrive/Colab Notebooks/story2.mp3') #concerting and saving into audio file\r\n",
        "\r\n",
        "print(t.text)"
      ],
      "execution_count": null,
      "outputs": []
    },
    {
      "cell_type": "markdown",
      "metadata": {
        "id": "3OTjrpAx2lcM"
      },
      "source": [
        "# **TRANSLATING INTO KANNADA AUDIO**"
      ]
    },
    {
      "cell_type": "code",
      "metadata": {
        "id": "bQRU5ErbzxRj"
      },
      "source": [
        "from googletrans import Translator\r\n",
        "trans=Translator()\r\n",
        "t=trans.translate(text,dest='kn')\r\n",
        " \r\n",
        "tts2=gTTS(text=t.text,lang='kn',slow=False)\r\n",
        "tts2.save('/content/drive/MyDrive/Colab Notebooks/story3.mp3')\r\n",
        " \r\n",
        "print(t.text)"
      ],
      "execution_count": null,
      "outputs": []
    }
  ]
}